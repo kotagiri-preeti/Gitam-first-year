{
 "cells": [
  {
   "cell_type": "markdown",
   "metadata": {},
   "source": [
    "## Functions:\n",
    "### Syntax:\n",
    "#### def name_of_the_function:\n",
    "        ...............\n",
    "        ...............\n",
    "        return statement"
   ]
  },
  {
   "cell_type": "markdown",
   "metadata": {},
   "source": [
    "### 1. program to check whether a number is a prime number using the function\n",
    "### 2. program to find out area and perimeter of a circle using functions"
   ]
  },
  {
   "cell_type": "code",
   "execution_count": 3,
   "metadata": {},
   "outputs": [
    {
     "name": "stdout",
     "output_type": "stream",
     "text": [
      "given number is prime\n"
     ]
    }
   ],
   "source": [
    "#program1:program to check whether a number is a prime number using the function\n",
    "def prime_or_not(n):\n",
    "    i=2\n",
    "    count=0\n",
    "    while(i<n):\n",
    "        if n%i==0:\n",
    "            count+=1\n",
    "        i+=1\n",
    "    return count\n",
    "flag=prime_or_not(13)\n",
    "if flag==0:\n",
    "    print(\"given number is prime\")\n",
    "else:\n",
    "    print(\"given number is not prime\")\n",
    "        \n"
   ]
  },
  {
   "cell_type": "code",
   "execution_count": 5,
   "metadata": {},
   "outputs": [
    {
     "name": "stdout",
     "output_type": "stream",
     "text": [
      "area of circle is: 3.141592653589793 and perimeter is: 12.566370614359172\n"
     ]
    }
   ],
   "source": [
    "import math\n",
    "def area(r):\n",
    "    return math.pi*r*r\n",
    "def perimeter(r):\n",
    "    return 4*math.pi*r\n",
    "\n",
    "print(\"area of circle is:\",area(1),\"and perimeter is:\",perimeter(1))"
   ]
  },
  {
   "cell_type": "code",
   "execution_count": null,
   "metadata": {},
   "outputs": [],
   "source": []
  }
 ],
 "metadata": {
  "kernelspec": {
   "display_name": "Python 3",
   "language": "python",
   "name": "python3"
  },
  "language_info": {
   "codemirror_mode": {
    "name": "ipython",
    "version": 3
   },
   "file_extension": ".py",
   "mimetype": "text/x-python",
   "name": "python",
   "nbconvert_exporter": "python",
   "pygments_lexer": "ipython3",
   "version": "3.7.3"
  }
 },
 "nbformat": 4,
 "nbformat_minor": 2
}
